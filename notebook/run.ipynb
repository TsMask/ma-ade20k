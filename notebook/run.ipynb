{
 "cells": [
  {
   "cell_type": "markdown",
   "metadata": {},
   "source": [
    "# 说明\n",
    "\n",
    "在开发环境中将目录中的 `model目录/V版本`，`notebook目录` 进行 Sync Obs 同步，之后在下面代码里修改同步模型的版本号。\n",
    "\n",
    "\n",
    "- `model目录/V版本` 中可能含有多个版本，只需要选择需要调试的版本目录进行同步即可\n",
    "\n",
    "- `notebook目录` 中含 `detect_image.py文件` 和 `detect_video.py文件` 是便于自己本机运行和在开发环境 `Terminal - TensorFlow-2.1.0` 中执行。\n",
    "\n",
    "在 `Terminal` 中使用命令 `source /home/ma-user/anaconda3/bin/activate TensorFlow-2.1.0` 可以切换到 `TensorFlow-2.1.0` 的环境方便运行\n"
   ]
  },
  {
   "cell_type": "markdown",
   "metadata": {},
   "source": [
    "## 查看同步的模型目录和调试所需文件"
   ]
  },
  {
   "cell_type": "code",
   "execution_count": null,
   "metadata": {
    "tags": []
   },
   "outputs": [],
   "source": [
    "!ls -lh model/V0002/model\n",
    "\n",
    "!ls -lh notebook"
   ]
  },
  {
   "cell_type": "markdown",
   "metadata": {},
   "source": [
    "## 图片识别 `detect_image.py` 文件"
   ]
  },
  {
   "cell_type": "code",
   "execution_count": null,
   "metadata": {},
   "outputs": [],
   "source": [
    "!python notebook/detect_image.py --image notebook/test.jpg --show_mask True --mask_alpha 0.6 --version V0002"
   ]
  },
  {
   "cell_type": "markdown",
   "metadata": {},
   "source": [
    "## 视频识别 `detect_video.py` 文件"
   ]
  },
  {
   "cell_type": "code",
   "execution_count": null,
   "metadata": {},
   "outputs": [],
   "source": [
    "!python notebook/detect_video.py --video notebook/test.mp4 --show_mask True --mask_alpha 0.6 --version V0002"
   ]
  },
  {
   "cell_type": "markdown",
   "metadata": {},
   "source": [
    "## 下面是便于观察的ipynb调试\n",
    "\n",
    "----"
   ]
  },
  {
   "cell_type": "markdown",
   "metadata": {},
   "source": [
    "### 开始\n",
    "\n",
    "detect_image.py文件 和 detect_video.py文件，所需模型依赖。\n",
    "\n",
    "**参数配置**\n",
    "\n",
    "- version 模型对应版本\n"
   ]
  },
  {
   "cell_type": "code",
   "execution_count": null,
   "metadata": {},
   "outputs": [],
   "source": [
    "import os, sys\n",
    "import tensorflow as tf\n",
    "from moxing.framework import file\n",
    "import cv2\n",
    "import time\n",
    "\n",
    "%matplotlib inline\n",
    "import matplotlib.pyplot as plt \n",
    "\n",
    "# 参数配置\n",
    "version = 'V0002' # 模型版本\n",
    "\n",
    "# 执行所在路径， V0xxx 表示模型版本号\n",
    "source_path = os.path.join(os.getcwd(), \"model/\" + version + \"/model\")\n",
    "sys.path.append(source_path)\n",
    "\n",
    "from core.semantic import load_ade20k_model, image_preporcess, image_segment\n",
    "\n",
    "# 载入模型\n",
    "model = load_ade20k_model(os.path.join(source_path, 'deeplabv3_xception65_ade20k.h5'))"
   ]
  },
  {
   "cell_type": "markdown",
   "metadata": {},
   "source": [
    "### 图片识别\n",
    "\n",
    "detect_image.py 文件内部代码\n",
    "\n",
    "**参数配置**\n",
    "\n",
    "- image 用于识别图文件\n",
    "- show_mask 图片语义掩膜\n",
    "- mask_alpha 掩膜透明度 0.1 - 0.9"
   ]
  },
  {
   "cell_type": "code",
   "execution_count": null,
   "metadata": {},
   "outputs": [],
   "source": [
    "# 参数配置\n",
    "image = cv2.imread('notebook/test.jpg') # 用于识别图文件\n",
    "show_mask = True # 图片语义掩膜\n",
    "mask_alpha = 0.5 # 掩膜透明度 0.1 - 0.9\n",
    "\n",
    "# obs桶路径\n",
    "obs_path = \"obs://puddings/ma-ade20k/notebook/out/image\"\n",
    "\n",
    "# 输出目录\n",
    "out_path = \"notebook/out/image\"\n",
    "\n",
    "# 输出目录存在需要删除里边的内容\n",
    "if os.path.exists(out_path):\n",
    "    file.remove(out_path, recursive=True)\n",
    "os.makedirs(out_path)\n",
    "\n",
    "prev_time = time.time()\n",
    "\n",
    "# 图片预处理\n",
    "resized_image, pad = image_preporcess(image)\n",
    "# 识别并绘制\n",
    "predict = model.predict(resized_image)\n",
    "segment = image_segment(predict, pad, image.shape[:2])\n",
    "\n",
    "# 是否用语义掩膜覆盖\n",
    "if show_mask:\n",
    "    cv2.addWeighted(segment, mask_alpha, image, 1-mask_alpha,0, image)\n",
    "else:\n",
    "    image = segment\n",
    "    \n",
    "# 绘制时间\n",
    "curr_time = time.time()\n",
    "exec_time = curr_time - prev_time\n",
    "print(\"识别耗时: %.2f ms\" %(1000*exec_time))\n",
    "\n",
    "# 绘制保存\n",
    "cv2.imwrite(out_path + \"/output\" + str(round(prev_time * 1000)) + \".jpg\", image) \n",
    "\n",
    "# 复制保存到桶\n",
    "print(\"输出目录：\" + out_path)\n",
    "file.copy_parallel(out_path, obs_path)\n",
    "\n",
    "# 总图绘制显示ipynb\n",
    "result = cv2.cvtColor(image, cv2.COLOR_RGB2BGR)\n",
    "plt.figure(figsize=(10,10))\n",
    "plt.imshow(result)\n",
    "plt.axis('on')\n",
    "plt.show()\n"
   ]
  },
  {
   "cell_type": "markdown",
   "metadata": {},
   "source": [
    "### 视频识别\n",
    "\n",
    "detect_video.py 文件内部代码\n",
    "\n",
    "**参数配置**\n",
    "\n",
    "- video 视频文件 \n",
    "- show_mask 图片语义掩膜\n",
    "- mask_alpha 掩膜透明度 0.1 - 0.9\n"
   ]
  },
  {
   "cell_type": "code",
   "execution_count": null,
   "metadata": {},
   "outputs": [],
   "source": [
    "# 参数配置\n",
    "video = cv2.VideoCapture('notebook/test.mp4') # 用于识别的视频文件 \n",
    "show_mask = True # 图片语义掩膜\n",
    "mask_alpha = 0.5 # 掩膜透明度 0.1 - 0.9\n",
    "\n",
    "# 输出目录\n",
    "out_path = \"notebook/out/video\"\n",
    "\n",
    "# 输出目录存在需要删除里边的内容\n",
    "if os.path.exists(out_path):\n",
    "    file.remove(out_path, recursive=True)\n",
    "os.makedirs(out_path)\n",
    "\n",
    "# 帧数，用于通过帧数取图\n",
    "frameNum = 0\n",
    "\n",
    "# obs桶路径\n",
    "obs_path = \"obs://puddings/ma-ade20k/notebook/out/video\"\n",
    "\n",
    "# 输出保存视频\n",
    "fourcc = cv2.VideoWriter_fourcc(*'XVID')\n",
    "fps = video.get(cv2.CAP_PROP_FPS)\n",
    "size = (int(video.get(cv2.CAP_PROP_FRAME_WIDTH)), int(video.get(cv2.CAP_PROP_FRAME_HEIGHT)))\n",
    "video_out = cv2.VideoWriter(out_path + \"/outputVideo.mp4\", fourcc, fps, size)\n",
    "\n",
    "# 视频是否可以打开，进行逐帧识别绘制\n",
    "while video.isOpened:\n",
    "    # 视频读取图片帧\n",
    "    retval, frame = video.read()\n",
    "    if retval:\n",
    "        frame = cv2.cvtColor(frame, cv2.COLOR_BGR2RGB)\n",
    "    else:\n",
    "        # 读取失败、结束后释放所有内容\n",
    "        video.release()\n",
    "        video_out.release()\n",
    "        print(\"没有图像！尝试使用其他视频\")\n",
    "        break\n",
    "\n",
    "    print('识别帧：%d/%d' % (frameNum, video.get(7)))\n",
    "    prev_time = time.time()\n",
    "    \n",
    "    # 图片预处理\n",
    "    resized_image, pad = image_preporcess(frame)\n",
    "    # 识别并绘制\n",
    "    predict = model.predict(resized_image)\n",
    "    segment = image_segment(predict, pad, frame.shape[:2])\n",
    "\n",
    "    # 是否用语义掩膜覆盖\n",
    "    if show_mask:\n",
    "        cv2.addWeighted(segment, mask_alpha, frame, 1-mask_alpha,0, frame)\n",
    "    else:\n",
    "        frame = segment\n",
    "\n",
    "    # 绘制时间\n",
    "    curr_time = time.time()\n",
    "    exec_time = curr_time - prev_time\n",
    "    print(\"识别耗时: %.2f ms\" %(1000*exec_time))\n",
    "\n",
    "    # 视频输出保存\n",
    "    result = cv2.cvtColor(frame, cv2.COLOR_RGB2BGR)\n",
    "    video_out.write(result)\n",
    "    \n",
    "    # 每300帧取图进行分割保存\n",
    "    if(frameNum % 300 == 0):\n",
    "        cv2.imwrite(os.path.join(out_path, str(frameNum) + \".jpg\"), result)\n",
    "    frameNum += 1\n",
    "    \n",
    "    # 复制保存到桶\n",
    "    file.copy_parallel(out_path, obs_path)\n",
    "\n",
    "    # 绘制结果ipynb显示\n",
    "    plt.figure(figsize=(10,10))\n",
    "    plt.imshow(frame)\n",
    "    plt.axis('on')\n",
    "    plt.show()\n",
    "\n",
    "# 保存统计总数并复制保存到桶\n",
    "print(\"输出目录：\" + out_path)\n",
    "# 复制保存到桶\n",
    "file.copy_parallel(out_path, obs_path)\n",
    "\n",
    "# 任务完成后释放所有内容\n",
    "video.release()\n",
    "video_out.release()\n"
   ]
  }
 ],
 "metadata": {
  "language_info": {
   "codemirror_mode": {
    "name": "ipython",
    "version": 3
   },
   "file_extension": ".py",
   "mimetype": "text/x-python",
   "name": "python",
   "nbconvert_exporter": "python",
   "pygments_lexer": "ipython3",
   "version": "3.7.7-final"
  },
  "orig_nbformat": 2,
  "kernelspec": {
   "name": "python37764bit9b2c3154938c4f1ebde4a7670bed1c22",
   "display_name": "Python 3.7.7 64-bit"
  }
 },
 "nbformat": 4,
 "nbformat_minor": 2
}